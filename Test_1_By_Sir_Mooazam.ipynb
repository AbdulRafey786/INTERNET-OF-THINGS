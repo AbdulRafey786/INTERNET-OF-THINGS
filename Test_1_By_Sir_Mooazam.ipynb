{
  "nbformat": 4,
  "nbformat_minor": 0,
  "metadata": {
    "colab": {
      "provenance": []
    },
    "kernelspec": {
      "name": "python3",
      "display_name": "Python 3"
    },
    "language_info": {
      "name": "python"
    }
  },
  "cells": [
    {
      "cell_type": "code",
      "execution_count": 7,
      "metadata": {
        "id": "ejXMZaeU3OvQ",
        "colab": {
          "base_uri": "https://localhost:8080/"
        },
        "outputId": "140b6ae3-296f-4135-b754-c37d55fe76cc"
      },
      "outputs": [
        {
          "output_type": "stream",
          "name": "stdout",
          "text": [
            "Enter the number:1\n",
            "Enter the number:30\n",
            "1\n",
            "3\n",
            "5\n",
            "7\n",
            "9\n",
            "11\n",
            "13\n",
            "15\n",
            "17\n",
            "19\n",
            "21\n",
            "23\n",
            "25\n",
            "27\n",
            "29\n"
          ]
        }
      ],
      "source": [
        "#Q1) Python program to print all odd numbers in a list.\n",
        "start = int(input('Enter the number:'))\n",
        "end = int(input('Enter the number:'))\n",
        "for i in range(start,end + 1):\n",
        "  if i % 2 != 0:\n",
        "    print(i)"
      ]
    },
    {
      "cell_type": "code",
      "source": [
        "#Q2) Python program to find the sum of list elements.\n",
        "sum = 0\n",
        "List = [5,10,15,20]\n",
        "for i in range(len(List)):\n",
        "  sum = sum + List[i]\n",
        "print('The sum of all list elemnts:',sum)"
      ],
      "metadata": {
        "colab": {
          "base_uri": "https://localhost:8080/"
        },
        "id": "0g2_WPyg8O-I",
        "outputId": "99801fd7-e5cf-4ca8-def1-dcfcdf2c9ee6"
      },
      "execution_count": 22,
      "outputs": [
        {
          "output_type": "stream",
          "name": "stdout",
          "text": [
            "The sum of all list elemnts: 50\n"
          ]
        }
      ]
    },
    {
      "cell_type": "code",
      "source": [
        "#Q3) Python program to reverse a list in two ways.\n",
        "Cities = ['Karachi','Lahore','Islamabad','Peshawar','Quetta'] \n",
        "Cities[-1:-6:-1] #1st method of reversing the list"
      ],
      "metadata": {
        "colab": {
          "base_uri": "https://localhost:8080/"
        },
        "id": "3bIq6qI790y4",
        "outputId": "faf46456-8ee9-4f97-a099-6b494cec0474"
      },
      "execution_count": 28,
      "outputs": [
        {
          "output_type": "execute_result",
          "data": {
            "text/plain": [
              "['Quetta', 'Peshawar', 'Islamabad', 'Lahore', 'Karachi']"
            ]
          },
          "metadata": {},
          "execution_count": 28
        }
      ]
    },
    {
      "cell_type": "code",
      "source": [
        "Cities = ['Karachi','Lahore','Islamabad','Peshawar','Quetta']\n",
        "Cities[4::-1]"
      ],
      "metadata": {
        "colab": {
          "base_uri": "https://localhost:8080/"
        },
        "id": "Tc3nzEKx96e_",
        "outputId": "3cda1734-a79a-40c8-86c4-4191d9b09036"
      },
      "execution_count": 31,
      "outputs": [
        {
          "output_type": "execute_result",
          "data": {
            "text/plain": [
              "['Quetta', 'Peshawar', 'Islamabad', 'Lahore', 'Karachi']"
            ]
          },
          "metadata": {},
          "execution_count": 31
        }
      ]
    },
    {
      "cell_type": "code",
      "source": [
        "#Q4) Python program to find the top two maximum numbers in a list.\n",
        "List = [23,36,58,98]\n",
        "if List[0]>List[1] and List[0]>List[2] and List[0]>List[3]:\n",
        "  print([0], 'is the maximum number')\n",
        "elif List[1]>List[0] and List[1]>List[2] and List[1]>List[3]:\n",
        "  print(List[1], 'is the maximum number')\n",
        "elif List[2]>List[0] and List[2]>List[1] and List[2]>List[3]:\n",
        "  print(List[2], 'is the maximum number')\n",
        "elif List[3]>List[0] and List[3]>List[1] and List[3]>List[2]:\n",
        "  print(List[3], 'is the maximum number')\n",
        "List.remove(max(List))\n",
        "print(max(List), 'is the second highest number')\n",
        "\n"
      ],
      "metadata": {
        "colab": {
          "base_uri": "https://localhost:8080/"
        },
        "id": "AIHSLURwFhC3",
        "outputId": "5d5e7113-fa3e-4fc0-b2a4-27ce6940ab1e"
      },
      "execution_count": 49,
      "outputs": [
        {
          "output_type": "stream",
          "name": "stdout",
          "text": [
            "98 is the maximum number\n",
            "58 is the second highest number\n"
          ]
        }
      ]
    },
    {
      "cell_type": "code",
      "source": [
        "#Q5) Write a program in Python to find the second highest number in an integer list.\n",
        "List = [23,36,58,98]\n",
        "if List[0]>List[1] and List[0]>List[2] and List[0]>List[3]:\n",
        "  print([0], 'is the maximum number')\n",
        "elif List[1]>List[0] and List[1]>List[2] and List[1]>List[3]:\n",
        "  print(List[1], 'is the maximum number')\n",
        "elif List[2]>List[0] and List[2]>List[1] and List[2]>List[3]:\n",
        "  print(List[2], 'is the maximum number')\n",
        "elif List[3]>List[0] and List[3]>List[1] and List[3]>List[2]:\n",
        "  List.remove(max(List))\n",
        "print(max(List), 'is the second highest number')\n",
        "\n"
      ],
      "metadata": {
        "colab": {
          "base_uri": "https://localhost:8080/"
        },
        "id": "5Wwo2JEDHq8W",
        "outputId": "a2166d3e-57f8-41c0-ee6b-1281f56407a8"
      },
      "execution_count": 50,
      "outputs": [
        {
          "output_type": "stream",
          "name": "stdout",
          "text": [
            "58 is the second highest number\n"
          ]
        }
      ]
    },
    {
      "cell_type": "code",
      "source": [
        "#Q6) Python program to sort characters in descending order.\n",
        "department = 'Mechanical'\n",
        "department[9::-1]"
      ],
      "metadata": {
        "colab": {
          "base_uri": "https://localhost:8080/",
          "height": 35
        },
        "id": "rdd-KAbDIbE2",
        "outputId": "31e3f2ad-fa40-4982-dee6-333f17d19ae1"
      },
      "execution_count": 34,
      "outputs": [
        {
          "output_type": "execute_result",
          "data": {
            "text/plain": [
              "'lacinahceM'"
            ],
            "application/vnd.google.colaboratory.intrinsic+json": {
              "type": "string"
            }
          },
          "metadata": {},
          "execution_count": 34
        }
      ]
    },
    {
      "cell_type": "code",
      "source": [
        "#Q7) Python program to remove repeated characters from a string.\n",
        "a = 'possssible'\n"
      ],
      "metadata": {
        "colab": {
          "base_uri": "https://localhost:8080/",
          "height": 200
        },
        "id": "wqRGadAnI93M",
        "outputId": "c8f15063-153e-4b9a-ba5a-5252b969ab30"
      },
      "execution_count": 37,
      "outputs": [
        {
          "output_type": "error",
          "ename": "TypeError",
          "evalue": "ignored",
          "traceback": [
            "\u001b[0;31m---------------------------------------------------------------------------\u001b[0m",
            "\u001b[0;31mTypeError\u001b[0m                                 Traceback (most recent call last)",
            "\u001b[0;32m<ipython-input-37-dee801d5b81a>\u001b[0m in \u001b[0;36m<cell line: 3>\u001b[0;34m()\u001b[0m\n\u001b[1;32m      1\u001b[0m \u001b[0;31m#Q7) Python program to remove repeated characters from a string.\u001b[0m\u001b[0;34m\u001b[0m\u001b[0;34m\u001b[0m\u001b[0m\n\u001b[1;32m      2\u001b[0m \u001b[0ma\u001b[0m \u001b[0;34m=\u001b[0m \u001b[0;34m'possssible'\u001b[0m\u001b[0;34m\u001b[0m\u001b[0;34m\u001b[0m\u001b[0m\n\u001b[0;32m----> 3\u001b[0;31m \u001b[0;32mdel\u001b[0m \u001b[0ma\u001b[0m\u001b[0;34m[\u001b[0m\u001b[0;36m2\u001b[0m\u001b[0;34m,\u001b[0m\u001b[0;36m3\u001b[0m\u001b[0;34m,\u001b[0m\u001b[0;36m4\u001b[0m\u001b[0;34m,\u001b[0m\u001b[0;36m5\u001b[0m\u001b[0;34m]\u001b[0m\u001b[0;34m\u001b[0m\u001b[0;34m\u001b[0m\u001b[0m\n\u001b[0m",
            "\u001b[0;31mTypeError\u001b[0m: 'str' object does not support item deletion"
          ]
        }
      ]
    },
    {
      "cell_type": "code",
      "source": [
        "#Q8) Python program to check if a given character is a vowel or consonant.\n",
        "ch = input('Enter character:')\n",
        "if ch=='A' or ch=='a' or ch=='E' or ch =='e' or ch=='I'or ch=='i' or ch=='O' or ch=='o' or ch=='U' or ch=='u':\n",
        "    print(ch, \"is a Vowel\")\n",
        "else:\n",
        "    print(ch, \"is a Consonant\")\n",
        "  "
      ],
      "metadata": {
        "colab": {
          "base_uri": "https://localhost:8080/"
        },
        "id": "sD99A2zGJpad",
        "outputId": "20431a16-1a04-4f7a-e3e7-03eab4b3eb8d"
      },
      "execution_count": 38,
      "outputs": [
        {
          "output_type": "stream",
          "name": "stdout",
          "text": [
            "Enter character:a\n",
            "a is a Vowel\n"
          ]
        }
      ]
    },
    {
      "cell_type": "code",
      "source": [
        "#Q9) Python Program to calculate factorial.\n",
        "num = int(input('Enter number:'))\n",
        "factorial = 1\n",
        "for i in range(1,num + 1):\n",
        "  factorial = factorial*i\n",
        "print(factorial) "
      ],
      "metadata": {
        "colab": {
          "base_uri": "https://localhost:8080/"
        },
        "id": "4pD-WnAFKnJe",
        "outputId": "36d625f2-739d-43d7-cbea-7e24200575e5"
      },
      "execution_count": 46,
      "outputs": [
        {
          "output_type": "stream",
          "name": "stdout",
          "text": [
            "Enter number:5\n",
            "120\n"
          ]
        }
      ]
    },
    {
      "cell_type": "code",
      "source": [
        "#Q10) Python Program to merge two lists.\n",
        "cities = ['karachi','Lahore']\n",
        "cities_new = ['Islamabad','Peshawar']\n",
        "print(cities + cities_new)"
      ],
      "metadata": {
        "colab": {
          "base_uri": "https://localhost:8080/"
        },
        "id": "hXWUQNDhLQvm",
        "outputId": "cc8bc132-f360-41a0-b739-f11f05b35810"
      },
      "execution_count": 47,
      "outputs": [
        {
          "output_type": "stream",
          "name": "stdout",
          "text": [
            "['karachi', 'Lahore', 'Islamabad', 'Peshawar']\n"
          ]
        }
      ]
    },
    {
      "cell_type": "code",
      "source": [],
      "metadata": {
        "id": "DF_sROOwMgrX"
      },
      "execution_count": null,
      "outputs": []
    }
  ]
}